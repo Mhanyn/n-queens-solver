{
  "nbformat": 4,
  "nbformat_minor": 0,
  "metadata": {
    "colab": {
      "provenance": [],
      "authorship_tag": "ABX9TyMLOhh0GQPnhzM+cfyVMJ0G",
      "include_colab_link": true
    },
    "kernelspec": {
      "name": "python3",
      "display_name": "Python 3"
    },
    "language_info": {
      "name": "python"
    }
  },
  "cells": [
    {
      "cell_type": "markdown",
      "metadata": {
        "id": "view-in-github",
        "colab_type": "text"
      },
      "source": [
        "<a href=\"https://colab.research.google.com/github/Mhanyn/n-queens-solver/blob/main/Nqueensproblem.ipynb\" target=\"_parent\"><img src=\"https://colab.research.google.com/assets/colab-badge.svg\" alt=\"Open In Colab\"/></a>"
      ]
    },
    {
      "cell_type": "markdown",
      "source": [
        "**Exhaustive Search => DFS**"
      ],
      "metadata": {
        "id": "jD_ofiyP_7_N"
      }
    },
    {
      "cell_type": "code",
      "source": [
        "import time\n",
        "\n",
        "def solve_n_queens(N):\n",
        "    # Bitmask to represent columns and diagonals\n",
        "    cols = 0\n",
        "    diag1 = 0\n",
        "    diag2 = 0\n",
        "    solution_count = 0\n",
        "    solutions = []\n",
        "\n",
        "    # Array to track the position of queens\n",
        "    queen_positions = [-1] * N\n",
        "    configurations_explored = 0  # Counter for configurations explored\n",
        "\n",
        "    def is_safe(row, col):\n",
        "        bit = 1 << col\n",
        "        return (cols & bit) == 0 and (diag1 & (bit << row)) == 0 and (diag2 & (bit << (N - 1 - row))) == 0\n",
        "\n",
        "    def place_queen(row, col):\n",
        "        bit = 1 << col\n",
        "        nonlocal cols, diag1, diag2\n",
        "        cols |= bit\n",
        "        diag1 |= bit << row\n",
        "        diag2 |= bit << (N - 1 - row)\n",
        "        queen_positions[row] = col  # Store the column of the placed queen\n",
        "\n",
        "    def remove_queen(row, col):\n",
        "        bit = 1 << col\n",
        "        nonlocal cols, diag1, diag2\n",
        "        cols &= ~bit\n",
        "        diag1 &= ~(bit << row)\n",
        "        diag2 &= ~(bit << (N - 1 - row))\n",
        "        queen_positions[row] = -1  # Reset the position\n",
        "\n",
        "    def solve_util(row):\n",
        "        nonlocal configurations_explored  # Access the outer variable\n",
        "        if row == N:  # All queens are placed\n",
        "            nonlocal solution_count\n",
        "            solution_count += 1\n",
        "            board = ['.' * N for _ in range(N)]\n",
        "            for r in range(N):\n",
        "                board[r] = board[r][:queen_positions[r]] + 'Q' + board[r][queen_positions[r]+1:]\n",
        "            solutions.append(board)\n",
        "\n",
        "        for col in range(N):\n",
        "            configurations_explored += 1  # Count the configuration explored\n",
        "            if is_safe(row, col):\n",
        "                place_queen(row, col)\n",
        "                solve_util(row + 1)  # Recursively place queens in the next rows\n",
        "                remove_queen(row, col)\n",
        "\n",
        "    solve_util(0)\n",
        "    return solution_count, configurations_explored, solutions  # Return the additional data\n",
        "\n",
        "def print_board(board):\n",
        "    for row in board:\n",
        "        print(\" \".join(row))\n",
        "    print()\n",
        "\n",
        "# Generate and display the N-Queens solutions for N = 4\n",
        "N = 10\n",
        "start_time = time.time()\n",
        "solution_count, configurations_explored, solutions = solve_n_queens(N)\n",
        "end_time = time.time()\n",
        "\n",
        "print(f\"For N={N}, the number of possible solutions is {solution_count}\")\n",
        "print(f\"Configurations explored: {configurations_explored}\")\n",
        "print(f\"Time taken: {end_time - start_time:.6f} seconds\")\n",
        "\n",
        "if solutions:\n",
        "    print(\"Displaying one of the solutions:\")\n",
        "    print_board(solutions[0])\n",
        "else:\n",
        "    print(f\"No solution exists for N={N}.\")"
      ],
      "metadata": {
        "colab": {
          "base_uri": "https://localhost:8080/"
        },
        "id": "Eva_8fk0tc8e",
        "outputId": "a401faf4-3d10-4334-ce43-4498d1beab4f"
      },
      "execution_count": null,
      "outputs": [
        {
          "output_type": "stream",
          "name": "stdout",
          "text": [
            "For N=10, the number of possible solutions is 724\n",
            "Configurations explored: 355390\n",
            "Time taken: 0.226100 seconds\n",
            "Displaying one of the solutions:\n",
            "Q . . . . . . . . .\n",
            ". . Q . . . . . . .\n",
            ". . . . . Q . . . .\n",
            ". . . . . . . Q . .\n",
            ". . . . . . . . . Q\n",
            ". . . . Q . . . . .\n",
            ". . . . . . . . Q .\n",
            ". Q . . . . . . . .\n",
            ". . . Q . . . . . .\n",
            ". . . . . . Q . . .\n",
            "\n"
          ]
        }
      ]
    },
    {
      "cell_type": "markdown",
      "source": [
        "**Genetic Algorithm**"
      ],
      "metadata": {
        "id": "A_L3YYL7_5o2"
      }
    },
    {
      "cell_type": "code",
      "source": [
        "import random\n",
        "import time\n",
        "\n",
        "def generate_solution(N):\n",
        "    \"\"\"Generates a random solution for N-Queens.\"\"\"\n",
        "    return random.sample(range(N), N)  # Random permutation of columns\n",
        "\n",
        "def fitness(solution):\n",
        "    \"\"\"Calculates the fitness of a solution.\"\"\"\n",
        "    N = len(solution)\n",
        "    threats = 0\n",
        "    row_conflicts = [0] * N\n",
        "    col_conflicts = [0] * N\n",
        "    diag1_conflicts = [0] * (2 * N - 1)  # row - col + (N - 1)\n",
        "    diag2_conflicts = [0] * (2 * N - 1)  # row + col\n",
        "\n",
        "    for row in range(N):\n",
        "        col = solution[row]\n",
        "        row_conflicts[row] += 1\n",
        "        col_conflicts[col] += 1\n",
        "        diag1_conflicts[row - col + (N - 1)] += 1\n",
        "        diag2_conflicts[row + col] += 1\n",
        "\n",
        "    for i in range(N):\n",
        "        if row_conflicts[i] > 1:\n",
        "            threats += row_conflicts[i] - 1\n",
        "        if col_conflicts[i] > 1:\n",
        "            threats += col_conflicts[i] - 1\n",
        "    for i in range(2 * N - 1):\n",
        "        if diag1_conflicts[i] > 1:\n",
        "            threats += diag1_conflicts[i] - 1\n",
        "        if diag2_conflicts[i] > 1:\n",
        "            threats += diag2_conflicts[i] - 1\n",
        "\n",
        "    return (N * (N - 1) // 2) - threats  # More pairs with fewer threats means better fitness\n",
        "\n",
        "def select(parents):\n",
        "    \"\"\"Selects parents for crossover based on fitness.\"\"\"\n",
        "    total_fitness = sum(fitness(ind) for ind in parents)\n",
        "    selection_probs = [fitness(ind) / total_fitness for ind in parents]\n",
        "    return random.choices(parents, weights=selection_probs, k=2)\n",
        "\n",
        "def crossover(parent1, parent2):\n",
        "    \"\"\"Crossover two parents to produce offspring.\"\"\"\n",
        "    point = random.randint(1, len(parent1) - 1)\n",
        "    child = parent1[:point] + [gene for gene in parent2 if gene not in parent1[:point]]\n",
        "    return child\n",
        "\n",
        "def mutate(solution):\n",
        "    \"\"\"Mutates a solution by swapping two queens' positions.\"\"\"\n",
        "    if random.random() < 0.1:  # 10% chance of mutation\n",
        "        idx1, idx2 = random.sample(range(len(solution)), 2)\n",
        "        solution[idx1], solution[idx2] = solution[idx2], solution[idx1]  # Swap positions\n",
        "    return solution\n",
        "\n",
        "def genetic_algorithm(N, generations=1000):\n",
        "    \"\"\"Runs the genetic algorithm to solve the N-Queens problem.\"\"\"\n",
        "    population_size = 50 + N * 10  # Dynamic population size based on N\n",
        "    population = [generate_solution(N) for _ in range(population_size)]\n",
        "    best_solution = None\n",
        "    best_fitness = -1\n",
        "    configurations_explored = 0  # Counter for explored configurations\n",
        "\n",
        "    for _ in range(generations):\n",
        "        new_population = []\n",
        "\n",
        "        # Ensuring best solutions survive (elitism)\n",
        "        population.sort(key=fitness, reverse=True)\n",
        "        new_population.extend(population[:10])  # Keep the best 10 solutions\n",
        "\n",
        "        while len(new_population) < population_size:\n",
        "            parent1, parent2 = select(population)\n",
        "            child1 = crossover(parent1, parent2)\n",
        "            child2 = crossover(parent2, parent1)\n",
        "            child1 = mutate(child1)\n",
        "            child2 = mutate(child2)\n",
        "            new_population.extend([child1, child2])\n",
        "\n",
        "        # Update the configurations explored based on the new population\n",
        "        configurations_explored += len(population)  # All current population configurations are explored\n",
        "        population = new_population\n",
        "\n",
        "        # Updating best solution\n",
        "        current_best = max(population, key=fitness)\n",
        "        current_fitness = fitness(current_best)\n",
        "        if current_fitness > best_fitness:\n",
        "            best_solution = current_best\n",
        "            best_fitness = current_fitness\n",
        "\n",
        "    return best_solution, best_fitness, configurations_explored\n",
        "\n",
        "if __name__ == \"__main__\":\n",
        "    N = 14\n",
        "    start_time = time.time()\n",
        "    solution, best_fitness, configurations = genetic_algorithm(N)\n",
        "    end_time = time.time()\n",
        "\n",
        "    print(f\"For N={N}, the best solution found is: {solution}\")\n",
        "    print(f\"Best fitness: {best_fitness} (1 means valid placement of N queens)\")\n",
        "    print(f\"Configurations explored: {configurations}\")\n",
        "    print(f\"Time taken: {end_time - start_time:.6f}\")"
      ],
      "metadata": {
        "colab": {
          "base_uri": "https://localhost:8080/"
        },
        "id": "9kzkpHcLvYV0",
        "outputId": "5615e6a5-a23c-4add-ecd5-7dd9c3219383"
      },
      "execution_count": null,
      "outputs": [
        {
          "output_type": "stream",
          "name": "stdout",
          "text": [
            "For N=14, the best solution found is: [9, 3, 12, 4, 2, 0, 13, 11, 8, 6, 1, 10, 5, 7]\n",
            "Best fitness: 91 (1 means valid placement of N queens)\n",
            "Configurations explored: 190000\n",
            "Time taken: 432.758618\n"
          ]
        }
      ]
    }
  ]
}